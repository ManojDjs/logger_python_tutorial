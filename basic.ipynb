{
 "cells": [
  {
   "cell_type": "code",
   "execution_count": 1,
   "metadata": {},
   "outputs": [
    {
     "name": "stderr",
     "output_type": "stream",
     "text": [
      "WARNING:root:A warning message\n",
      "ERROR:root:An error message\n",
      "CRITICAL:root:A critical message\n"
     ]
    }
   ],
   "source": [
    "import logging\n",
    "\n",
    "logging.debug(\"A debug message\")\n",
    "logging.info(\"An info message\")\n",
    "logging.warning(\"A warning message\")\n",
    "logging.error(\"An error message\")\n",
    "logging.critical(\"A critical message\")\n"
   ]
  },
  {
   "cell_type": "markdown",
   "metadata": {},
   "source": [
    "Notice that the debug() and info() messages are missing from the output while the others are present. This is due to the default log level configured on the logging module,\n",
    "Log levels define the severity of the event that is being logged. They convey implicit meaning about the program state when the message was recorded, which is crucial when sieving through large logs for specific events. For example a message logged at the INFO level indicates a normal and expected event, while one that is logged at the ERROR level signifies that some unexpected error has occurred.\n",
    "\n",
    "Each log level in Python is associated with a number (from 10 to 50) and has a corresponding module-level method in the logging module as demonstrated in the previous example. The available log levels in the logging module are listed below in increasing order of severity:\n",
    "\n",
    "DEBUG (10): used to log messages that are useful for debugging.\n",
    "INFO (20): used to log events within the parameters of expected program behavior.\n",
    "WARNING (30): used to log unexpected events which may impede future program function but not severe enough to be an error.\n",
    "ERROR (40): used to log unexpected failures in the program. Often, an exception needs to be raised to avoid further failures, but the program may still be able to run.\n",
    "CRITICAL (50): used to log severe errors that can cause the application to stop running altogether.\n",
    "By default, the logging module will only produce records for events that have been logged at a severity level of WARNING and above. This is why the debug() and info() messages were omitted in the previous example since they are less severe than WARNING. You can change this behavior using the logging.basicConfig() method as demonstrated below:"
   ]
  },
  {
   "cell_type": "code",
   "execution_count": 2,
   "metadata": {},
   "outputs": [
    {
     "name": "stderr",
     "output_type": "stream",
     "text": [
      "WARNING:root:A warning message with config\n",
      "ERROR:root:An error message\n",
      "CRITICAL:root:A critical message\n"
     ]
    }
   ],
   "source": [
    "import logging\n",
    "logging.getLogger(\"example\")\n",
    "logging.basicConfig(evel=logging.DEBUG,format=\"%(levelname)s | %(asctime)s | %(message)s\")\n",
    "logging.debug(\"A debug message\")\n",
    "logging.info(\"An info message\")\n",
    "logging.warning(\"A warning message with config\")\n",
    "logging.error(\"An error message\")\n",
    "logging.critical(\"A critical message\")\n"
   ]
  },
  {
   "cell_type": "code",
   "execution_count": 3,
   "metadata": {},
   "outputs": [
    {
     "name": "stderr",
     "output_type": "stream",
     "text": [
      "2024-04-06 20:30:25,957 - MyLogger - DEBUG - A debug message\n",
      "DEBUG:MyLogger:A debug message\n",
      "2024-04-06 20:30:25,958 - MyLogger - INFO - An info message\n",
      "INFO:MyLogger:An info message\n",
      "2024-04-06 20:30:25,959 - MyLogger - WARNING - A warning message\n",
      "WARNING:MyLogger:A warning message\n",
      "2024-04-06 20:30:25,959 - MyLogger - ERROR - An error message\n",
      "ERROR:MyLogger:An error message\n",
      "2024-04-06 20:30:25,960 - MyLogger - CRITICAL - A critical message\n",
      "CRITICAL:MyLogger:A critical message\n"
     ]
    }
   ],
   "source": [
    "import logging\n",
    "\n",
    "logger = logging.getLogger('MyLogger')\n",
    "handler = logging.StreamHandler()\n",
    "formatter = logging.Formatter('%(asctime)s - %(name)s - %(levelname)s - %(message)s')\n",
    "handler.setFormatter(formatter)\n",
    "logger.addHandler(handler)\n",
    "logger.setLevel(logging.DEBUG)\n",
    "logger.debug(\"A debug message\")\n",
    "logger.info(\"An info message\")\n",
    "logger.warning(\"A warning message\")\n",
    "logger.error(\"An error message\")\n",
    "logger.critical(\"A critical message\")"
   ]
  },
  {
   "cell_type": "code",
   "execution_count": 4,
   "metadata": {},
   "outputs": [
    {
     "name": "stderr",
     "output_type": "stream",
     "text": [
      "WARNING:root:Something bad is going to happen\n"
     ]
    }
   ],
   "source": [
    "import logging\n",
    "\n",
    "logging.basicConfig(format=\"%(levelname)s | %(asctime)s | %(message)s\")\n",
    "logging.warning(\"Something bad is going to happen\")\n"
   ]
  },
  {
   "cell_type": "code",
   "execution_count": 5,
   "metadata": {},
   "outputs": [
    {
     "name": "stderr",
     "output_type": "stream",
     "text": [
      "WARNING:root:system disk is 85% full\n",
      "ERROR:root:unexpected error\n"
     ]
    }
   ],
   "source": [
    "import logging\n",
    "\n",
    "logging.basicConfig(\n",
    "    format=\"%(name)s: %(asctime)s | %(levelname)s | %(filename)s:%(lineno)s | %(process)d >>> %(message)s\",\n",
    "    datefmt=\"%Y-%m-%dT%H:%M:%SZ\",\n",
    ")\n",
    "\n",
    "logging.warning(\"system disk is 85% full\")\n",
    "logging.error(\"unexpected error\")\n",
    "\n"
   ]
  },
  {
   "cell_type": "code",
   "execution_count": 6,
   "metadata": {},
   "outputs": [
    {
     "name": "stderr",
     "output_type": "stream",
     "text": [
      "WARNING:example:A warning\n"
     ]
    }
   ],
   "source": [
    "import logging\n",
    "\n",
    "logger = logging.getLogger(\"example\")\n",
    "\n",
    "logger.info(\"An info\")\n",
    "logger.warning(\"A warning\")\n"
   ]
  },
  {
   "cell_type": "code",
   "execution_count": 7,
   "metadata": {},
   "outputs": [
    {
     "name": "stdout",
     "output_type": "stream",
     "text": [
      "A warning\n"
     ]
    },
    {
     "name": "stderr",
     "output_type": "stream",
     "text": [
      "WARNING:example:A warning\n"
     ]
    }
   ],
   "source": [
    "import sys\n",
    "import logging\n",
    "\n",
    "logger = logging.getLogger(\"example\")\n",
    "\n",
    "stdout = logging.StreamHandler(stream=sys.stdout)\n",
    "stdout.setLevel(logging.INFO)\n",
    "\n",
    "logger.addHandler(stdout)\n",
    "\n",
    "logger.info(\"An info\")\n",
    "logger.warning(\"A warning\")\n"
   ]
  },
  {
   "cell_type": "code",
   "execution_count": 8,
   "metadata": {},
   "outputs": [
    {
     "name": "stdout",
     "output_type": "stream",
     "text": [
      "An info\n",
      "example: 2024-04-08 22:43:30,953 | INFO | 371156466.py:17 | 10857 >>> An info\n"
     ]
    },
    {
     "name": "stderr",
     "output_type": "stream",
     "text": [
      "INFO:example:An info\n"
     ]
    },
    {
     "name": "stdout",
     "output_type": "stream",
     "text": [
      "A warning\n",
      "example: 2024-04-08 22:43:30,955 | WARNING | 371156466.py:18 | 10857 >>> A warning\n"
     ]
    },
    {
     "name": "stderr",
     "output_type": "stream",
     "text": [
      "WARNING:example:A warning\n"
     ]
    }
   ],
   "source": [
    "import sys\n",
    "import logging\n",
    "\n",
    "logger = logging.getLogger(\"example\")\n",
    "\n",
    "stdout = logging.StreamHandler(stream=sys.stdout)\n",
    "\n",
    "fmt = logging.Formatter(\n",
    "    \"%(name)s: %(asctime)s | %(levelname)s | %(filename)s:%(lineno)s | %(process)d >>> %(message)s\"\n",
    ")\n",
    "\n",
    "stdout.setFormatter(fmt)\n",
    "logger.addHandler(stdout)\n",
    "\n",
    "logger.setLevel(logging.INFO)\n",
    "\n",
    "logger.info(\"An info\")\n",
    "logger.warning(\"A warning\")\n"
   ]
  },
  {
   "cell_type": "code",
   "execution_count": null,
   "metadata": {},
   "outputs": [],
   "source": []
  }
 ],
 "metadata": {
  "kernelspec": {
   "display_name": "Python 3",
   "language": "python",
   "name": "python3"
  },
  "language_info": {
   "codemirror_mode": {
    "name": "ipython",
    "version": 3
   },
   "file_extension": ".py",
   "mimetype": "text/x-python",
   "name": "python",
   "nbconvert_exporter": "python",
   "pygments_lexer": "ipython3",
   "version": "3.9.6"
  }
 },
 "nbformat": 4,
 "nbformat_minor": 2
}
